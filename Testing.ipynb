{
 "cells": [
  {
   "cell_type": "code",
   "execution_count": 1,
   "metadata": {
    "colab": {},
    "colab_type": "code",
    "id": "_AO-G7pqR1sT"
   },
   "outputs": [],
   "source": [
    "import pickle\n",
    "import datetime\n",
    "import numpy as np\n",
    "import pandas as pd\n",
    "import seaborn as sns\n",
    "import matplotlib.pyplot as plt\n",
    "from ann import ANNRegressor_model\n",
    "from sklearn.preprocessing import StandardScaler\n",
    "from sklearn.metrics import mean_absolute_error as MAE\n",
    "\n",
    "sns.set(style='whitegrid')"
   ]
  },
  {
   "cell_type": "markdown",
   "metadata": {},
   "source": [
    "# Testing process\n",
    "\n",
    "1. **Step 1** - In the modelling and training process, the important features/ attributes have been selected and saved and so as the ANN regressor model parameters and the scalers. Load those saved parameters to reconstruct the modelling environment.\n",
    "\n",
    "2. **Step 2** - Load the test dataset and perform preprocessing and feature engineering based on the saved selected features.\n",
    "\n",
    "3. **Step 3** - Standardize the dataset based on the saved scalers\n",
    "\n",
    "4. **Step 4** - Reconstruct the ANN regressor model and predict the result based on the preprocessed dataset.\n",
    "\n",
    "5. **Step 5** - Save the prediction results and evaluation metrics in list and store in a pickle file with details as follows:\n",
    "    * element 1 - result (pandas DataFrame) - prediction and actual delivery time\n",
    "    * element 2 - mae (numpy float) - mean absolute error of the delivery time\n",
    "    * element 3 - percentage_delayed_delivery (numpy float) - the percentage of prediction < actual delivery time\n",
    "    \n",
    "6. Note that the mae and percentage of delayed delivery is quite high and the model can be further fine tuned with larger dataset to make it less overfit/ generalized."
   ]
  },
  {
   "cell_type": "markdown",
   "metadata": {},
   "source": [
    "**Load respective saved pickle files**"
   ]
  },
  {
   "cell_type": "code",
   "execution_count": 2,
   "metadata": {},
   "outputs": [],
   "source": [
    "# Load the model parameters\n",
    "with open('parameters.pkl', 'rb') as file:\n",
    "    units, num_features, file_dir, epochs, batch_size, quantile = pickle.load(file)\n",
    "    \n",
    "# Load the important features/ attributes extracted\n",
    "with open('selected_features.pkl', 'rb') as file:\n",
    "    selected_features = pickle.load(file)\n",
    "    \n",
    "# Load the scaler for 'Order Product Quantity' &'Delivery Time (days)'\n",
    "with open('quantity_scaler.pkl', 'rb') as file:\n",
    "    quantity_scaler = pickle.load(file)\n",
    "    \n",
    "with open('deliverytime_scaler.pkl', 'rb') as file:\n",
    "    deliverytime_scaler = pickle.load(file)"
   ]
  },
  {
   "cell_type": "markdown",
   "metadata": {},
   "source": [
    "**Function - Preprocess & feature engineering**"
   ]
  },
  {
   "cell_type": "code",
   "execution_count": 3,
   "metadata": {},
   "outputs": [],
   "source": [
    "# Set the parameter 'training' to True if the label exists\n",
    "\n",
    "def preprocess_featureengineering(df, training):\n",
    "    \n",
    "    # Identify and handle null items\n",
    "    if training: # The label is only available in training\n",
    "        idx_null = np.where(df['Delivery Time (days)'].isnull()==1)[0]\n",
    "        df.drop(idx_null, axis=0, inplace=True) # Remove the samples without the labels\n",
    "        df.reset_index(drop=True, inplace=True) # Reset index\n",
    "    df.fillna('0', inplace=True) # Fill null item with '0' for attribute 'Order Type'\n",
    "    \n",
    "    # Feature engineering with attribute 'Order Create Date'\n",
    "    df['Month'] = df['Order Create Date'].apply(lambda x: x.month)\n",
    "    df['Day'] = df['Order Create Date'].apply(lambda x: x.day)\n",
    "    df['Weekend'] = df['Order Create Date'].apply(lambda x: 1 if x.weekday() >=5 else 0)    \n",
    "    \n",
    "    # Remove the unwanted columns\n",
    "    columns_to_remove = ['Customer Expected Delivery Date', 'Order ID', 'Product Center', \n",
    "                         'Product Sub Center', 'Customer Name', 'Order Type', \n",
    "                         'Order Create Date', 'Product ID']\n",
    "    df.drop(columns_to_remove, axis=1, inplace=True)\n",
    "    \n",
    "    # One hot encode categorical attributes\n",
    "    columns_categorical = ['Delivery Priority Code', 'Product Shipping Point', \n",
    "                           'Product Supplier', 'Product Type', 'Month', \n",
    "                           'Day', 'Weekend']\n",
    "    df = pd.get_dummies(df, columns=columns_categorical, drop_first=True)\n",
    "    \n",
    "    # Create important attributes/ selected features if it is missing from the current dataset\n",
    "    # Assign value to be zeros\n",
    "    for selected_feature in selected_features:\n",
    "        if selected_feature not in df.columns.tolist():\n",
    "            df[selected_feature] = 0   \n",
    "    \n",
    "    return df"
   ]
  },
  {
   "cell_type": "markdown",
   "metadata": {},
   "source": [
    "**Function - Standardization of numerical features**"
   ]
  },
  {
   "cell_type": "code",
   "execution_count": 4,
   "metadata": {},
   "outputs": [],
   "source": [
    "# Set the parameter 'training' to True if the label exists\n",
    "\n",
    "def standardize(df, training):\n",
    "    \n",
    "    # Standardization of delivery time and order product quantity\n",
    "    x_categorical = df[selected_features].drop('Order Product Quantity', axis=1, inplace=False).values\n",
    "    x_numerical = df['Order Product Quantity'].values\n",
    "    x_numerical = quantity_scaler.transform(np.expand_dims(x_numerical, axis=1))\n",
    "    x_test = np.concatenate((x_categorical, x_numerical), axis=1)\n",
    "    \n",
    "    if training:\n",
    "        y = df['Delivery Time (days)']\n",
    "        y_test = deliverytime_scaler.transform(np.expand_dims(y, axis=1))\n",
    "        # return scaled features/ attributes and labels\n",
    "        return x_test, y_test\n",
    "    \n",
    "    return x_test"
   ]
  },
  {
   "cell_type": "markdown",
   "metadata": {},
   "source": [
    "**Function - Execution pipeline**"
   ]
  },
  {
   "cell_type": "code",
   "execution_count": 5,
   "metadata": {},
   "outputs": [],
   "source": [
    "# Set the parameter 'training' to True if the label exists\n",
    "\n",
    "def execution_pipeline(df, training):\n",
    "    \n",
    "    df = preprocess_featureengineering(df, training)\n",
    "    \n",
    "    # Predict and save results and evaluation metrics\n",
    "    x_test, y_test = standardize(df, training) # Scaled features & labels\n",
    "    y_test_pred = model.predict(x_test) # rounded unscaled prediction time in days\n",
    "    \n",
    "    # Note that the prediction return is unscaled while the actual needs to be scaled back\n",
    "    result = pd.DataFrame({'Predicted': np.squeeze(y_test_pred), \n",
    "                           'Actual': np.squeeze(deliverytime_scaler.inverse_transform(y_test))})\n",
    "    print(result.head(), '\\n')\n",
    "    mae, percentage_delayed_delivery = model.evaluate(x_test, y_test, plot=False)\n",
    "    \n",
    "    # The saved pickle files store three elements\n",
    "    # 1) result (pandas DataFrame) - prediction and actual delivery time\n",
    "    # 2) mae (numpy float) - mean absolute error of the delivery time\n",
    "    # 3) percentage_delayed_delivery (numpy float) - the percentage of prediction < actual delivery time\n",
    "    with open('result.pkl', 'wb') as file:\n",
    "        pickle.dump([result, mae, percentage_delayed_delivery], file)    "
   ]
  },
  {
   "cell_type": "markdown",
   "metadata": {},
   "source": [
    "**Initialization of ANN regressor model**"
   ]
  },
  {
   "cell_type": "code",
   "execution_count": 6,
   "metadata": {
    "colab": {},
    "colab_type": "code",
    "id": "ITDE-lNd2iCT"
   },
   "outputs": [],
   "source": [
    "model = ANNRegressor_model(units, num_features, quantile, \n",
    "                           file_dir, epochs, batch_size,\n",
    "                           deliverytime_scaler)"
   ]
  },
  {
   "cell_type": "markdown",
   "metadata": {},
   "source": [
    "**Main**"
   ]
  },
  {
   "cell_type": "code",
   "execution_count": 7,
   "metadata": {},
   "outputs": [
    {
     "name": "stdout",
     "output_type": "stream",
     "text": [
      "   Predicted  Actual\n",
      "0        5.0    34.0\n",
      "1        4.0    29.0\n",
      "2        3.0    29.0\n",
      "3        3.0    28.0\n",
      "4        0.0     0.0 \n",
      "\n",
      "The mean absolute error: 2.39 days\n",
      "The percentage of delayed delivery: 30.02%\n"
     ]
    }
   ],
   "source": [
    "if __name__ == '__main__':\n",
    "    \n",
    "    # Read file and preprocess & feature engineer\n",
    "    df = pd.read_excel('data_test.xlsx')\n",
    "    \n",
    "    # Set the parameter 'training' to True if the label exists\n",
    "    training = True\n",
    "    \n",
    "    # Execution pipeline\n",
    "    execution_pipeline(df, training)"
   ]
  }
 ],
 "metadata": {
  "colab": {
   "authorship_tag": "ABX9TyNW+KORdvoa4YSLwMsibCuz",
   "collapsed_sections": [],
   "name": "Delivery Time Estimation.ipynb",
   "provenance": []
  },
  "kernelspec": {
   "display_name": "Python 3",
   "language": "python",
   "name": "python3"
  },
  "language_info": {
   "codemirror_mode": {
    "name": "ipython",
    "version": 3
   },
   "file_extension": ".py",
   "mimetype": "text/x-python",
   "name": "python",
   "nbconvert_exporter": "python",
   "pygments_lexer": "ipython3",
   "version": "3.7.7"
  }
 },
 "nbformat": 4,
 "nbformat_minor": 1
}
